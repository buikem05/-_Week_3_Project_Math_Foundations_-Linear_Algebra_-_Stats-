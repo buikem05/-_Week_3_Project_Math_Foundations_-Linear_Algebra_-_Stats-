{
  "nbformat": 4,
  "nbformat_minor": 0,
  "metadata": {
    "colab": {
      "provenance": []
    },
    "kernelspec": {
      "name": "python3",
      "display_name": "Python 3"
    },
    "language_info": {
      "name": "python"
    }
  },
  "cells": [
    {
      "cell_type": "markdown",
      "source": [
        "# **Week 3 Project: Linear Algebra + Statistics Foundations**"
      ],
      "metadata": {
        "id": "eDNgBOuZCKzt"
      }
    },
    {
      "cell_type": "markdown",
      "source": [
        "### Import Libraries"
      ],
      "metadata": {
        "id": "RN7zxTyBEjG9"
      }
    },
    {
      "cell_type": "code",
      "execution_count": null,
      "metadata": {
        "id": "QBNYodiZCF84"
      },
      "outputs": [],
      "source": [
        "import numpy as np\n",
        "import matplotlib.pyplot as plt\n"
      ]
    },
    {
      "cell_type": "markdown",
      "source": [
        "### Generate Synthetic Data"
      ],
      "metadata": {
        "id": "wpDMSma2FAap"
      }
    },
    {
      "cell_type": "code",
      "source": [
        "# Create Random Arrays of Numbers\n",
        "# create a 1D array of 100 random numbers from a normal distribution\n",
        "x = np.random.randint(100)\n",
        "y = np.random.randint(100)\n"
      ],
      "metadata": {
        "id": "hzy3dfafFF0c"
      },
      "execution_count": null,
      "outputs": []
    },
    {
      "cell_type": "code",
      "source": [
        "#create 2D arrays (matrices) with random integers for practicing matrix multiplication\n",
        "A = np.random.randint(0, 10, size=(3, 2))\n",
        "B = np.random.randint(0, 10, size=(2, 5))"
      ],
      "metadata": {
        "id": "UN4ygGkpMADl"
      },
      "execution_count": null,
      "outputs": []
    },
    {
      "cell_type": "markdown",
      "source": [
        "### Matrix multiplication (Linear Algebra)"
      ],
      "metadata": {
        "id": "bKxxuu7yMXjp"
      }
    },
    {
      "cell_type": "code",
      "source": [
        "#Multiply them together (A dot B)\n",
        "C = np.dot(A, B)\n",
        "print(C)"
      ],
      "metadata": {
        "colab": {
          "base_uri": "https://localhost:8080/"
        },
        "id": "OTOfDywdMeNz",
        "outputId": "832e63e9-b724-42fd-8bcf-de6e663c4cb8"
      },
      "execution_count": null,
      "outputs": [
        {
          "output_type": "stream",
          "name": "stdout",
          "text": [
            "[[54 57 33 24 69]\n",
            " [64 24 24  0 72]\n",
            " [ 5  8  4  4  7]]\n"
          ]
        }
      ]
    },
    {
      "cell_type": "code",
      "source": [
        "#Verify the rule: (m x n) dot (n x p) = (m x p)\n",
        "#Print shapes of A, B, and the result to confirm dimensions\n",
        "print(A.shape)\n",
        "print(B.shape)\n",
        "print(C.shape)"
      ],
      "metadata": {
        "colab": {
          "base_uri": "https://localhost:8080/"
        },
        "id": "TiKqPFkuM1ON",
        "outputId": "861ea178-eb25-44a2-a868-ed8c0721ce00"
      },
      "execution_count": null,
      "outputs": [
        {
          "output_type": "stream",
          "name": "stdout",
          "text": [
            "(3, 2)\n",
            "(2, 5)\n",
            "(3, 5)\n"
          ]
        }
      ]
    },
    {
      "cell_type": "markdown",
      "source": [
        "### Vector Operations"
      ],
      "metadata": {
        "id": "wJmaJlpPODy7"
      }
    },
    {
      "cell_type": "code",
      "source": [
        "#Create two 1D arrays (vectors) of the same length\n",
        "x = np.random.randint(0, 10, size=(1, 7))\n",
        "y = np.random.randint(0, 10, size=(1, 7))"
      ],
      "metadata": {
        "id": "IquJb38yOfRb"
      },
      "execution_count": null,
      "outputs": []
    },
    {
      "cell_type": "code",
      "source": [
        "#Perform element-wise addition, subtraction, and multiplication\n",
        "add = x + y\n",
        "sub = x - y\n",
        "mult = x * y\n",
        "print('add:', add )\n",
        "print('sub:', sub )\n",
        "print('mult:', mult )"
      ],
      "metadata": {
        "colab": {
          "base_uri": "https://localhost:8080/"
        },
        "id": "JrYxEex_Pmn_",
        "outputId": "e74a9476-dd11-43a9-c5fd-183dace75932"
      },
      "execution_count": null,
      "outputs": [
        {
          "output_type": "stream",
          "name": "stdout",
          "text": [
            "add: [[ 9  9 11  6  4 16  2]]\n",
            "sub: [[-1  3  3  2 -2 -2  0]]\n",
            "mult: [[20 18 28  8  3 63  1]]\n"
          ]
        }
      ]
    },
    {
      "cell_type": "code",
      "source": [
        "#Normalize a vector (divide by its magnitude/length)\n",
        "norm = np.linalg.norm(x)\n",
        "print(norm)"
      ],
      "metadata": {
        "colab": {
          "base_uri": "https://localhost:8080/"
        },
        "id": "iykNZAxLQDlz",
        "outputId": "726353d5-296a-45ef-d3cd-df706d6791b0"
      },
      "execution_count": null,
      "outputs": [
        {
          "output_type": "stream",
          "name": "stdout",
          "text": [
            "12.96148139681572\n"
          ]
        }
      ]
    },
    {
      "cell_type": "markdown",
      "source": [
        "### Statistical Operations"
      ],
      "metadata": {
        "id": "UPcdLRBrSpFo"
      }
    },
    {
      "cell_type": "code",
      "source": [
        "#Generate a 1D array of random numbers (e.g., 1000 values from normal distribution)\n",
        "data = np.random.normal(size=1000)\n",
        "print(data[:10])"
      ],
      "metadata": {
        "colab": {
          "base_uri": "https://localhost:8080/"
        },
        "id": "dvwK13nnQO7W",
        "outputId": "cdf5ffc7-7209-42f5-bb14-0c993c8425af"
      },
      "execution_count": null,
      "outputs": [
        {
          "output_type": "stream",
          "name": "stdout",
          "text": [
            "[-0.48630708  0.87831735 -1.28609328 -0.79697911 -1.20299486 -0.26416141\n",
            " -0.13958172  0.66718097  0.16399699  0.16776987]\n"
          ]
        }
      ]
    },
    {
      "cell_type": "code",
      "source": [
        "#Compute mean, median, variance, and standard deviation\n",
        "mean = np.mean(data)\n",
        "median = np.median(data)\n",
        "variance = np.var(data)\n",
        "std_dev = np.std(data)\n",
        "\n",
        "print(\"Mean:\", mean)\n",
        "print(\"Median:\", median)\n",
        "print(\"Variance:\", variance)\n",
        "print(\"Standard Deviation:\", std_dev)"
      ],
      "metadata": {
        "colab": {
          "base_uri": "https://localhost:8080/"
        },
        "id": "FGeojcU9Seoi",
        "outputId": "1cc166c4-7f37-4899-900e-e503b3724149"
      },
      "execution_count": null,
      "outputs": [
        {
          "output_type": "stream",
          "name": "stdout",
          "text": [
            "Mean: -0.04628934691246092\n",
            "Median: -0.0276236163056688\n",
            "Variance: 1.0300312968903864\n",
            "Standard Deviation: 1.0149045752633035\n"
          ]
        }
      ]
    },
    {
      "cell_type": "code",
      "source": [
        "# --- Manual calculations ---\n",
        "mean_manual = sum(data) / len(data)\n",
        "variance_manual = sum((x - mean_manual) ** 2 for x in data) / len(data)   # population variance\n",
        "std_dev_manual = variance_manual ** 0.5\n",
        "\n",
        "print(\"Mean (manual):\", mean_manual)\n",
        "print(\"Variance (manual):\", variance_manual)\n",
        "print(\"Standard Deviation (manual):\", std_dev_manual)"
      ],
      "metadata": {
        "colab": {
          "base_uri": "https://localhost:8080/"
        },
        "id": "PjcvN60MT_K-",
        "outputId": "c5ae4f6c-8dcb-4ae5-c5ab-2e9bdb56b61a"
      },
      "execution_count": null,
      "outputs": [
        {
          "output_type": "stream",
          "name": "stdout",
          "text": [
            "Mean (manual): -0.04628934691246093\n",
            "Variance (manual): 1.030031296890385\n",
            "Standard Deviation (manual): 1.0149045752633028\n"
          ]
        }
      ]
    },
    {
      "cell_type": "markdown",
      "source": [
        "### Visualize Distribution"
      ],
      "metadata": {
        "id": "6x_-50D5DVsO"
      }
    },
    {
      "cell_type": "code",
      "source": [
        "uniform_data = np.random.rand(1000)\n",
        "uniform_mean = np.mean(uniform_data)\n",
        "\n",
        "# Histogram of the random numbers\n",
        "plt.figure(figsize=(12,5))\n",
        "\n",
        "plt.subplot(1, 2, 1)\n",
        "plt.hist(data, bins=30, edgecolor='black', alpha = 0.7)\n",
        "plt.axvline(mean, color=\"red\", linestyle=\"dashed\", linewidth=2, label=f\"Mean: {mean:.2f}\")\n",
        "plt.title('Distribution of Random Numbers')\n",
        "plt.xlabel('Value')\n",
        "plt.ylabel('Frequency')\n",
        "plt.legend()\n",
        "\n",
        "plt.subplot(1, 2, 2)\n",
        "plt.hist(uniform_data, bins=30, color=\"lightgreen\", edgecolor=\"black\", alpha=0.7)\n",
        "plt.axvline(uniform_mean, color=\"red\", linestyle=\"dashed\", linewidth=2, label=f\"Mean: {uniform_mean:.2f}\")\n",
        "plt.title(\"Uniform Distribution [0,1)\")\n",
        "plt.xlabel(\"Value\")\n",
        "plt.ylabel(\"Frequency\")\n",
        "plt.legend()\n",
        "\n",
        "plt.tight_layout()\n",
        "plt.savefig(\"normal_vs_uniform.png\", dpi=300, bbox_inches=\"tight\")\n",
        "\n",
        "plt.show()\n"
      ],
      "metadata": {
        "colab": {
          "base_uri": "https://localhost:8080/",
          "height": 260
        },
        "id": "vEb-EElgCxp7",
        "outputId": "6fe725e0-a84f-43d0-a692-759f7841715b"
      },
      "execution_count": null,
      "outputs": [
        {
          "output_type": "display_data",
          "data": {
            "text/plain": [
              "<Figure size 1200x500 with 2 Axes>"
            ],
            "image/png": "[encoded data removed]"
          },
          "metadata": {}
        }
      ]
    },
    {
      "cell_type": "code",
      "source": [
        "# Add a vertical line at the mean to show the center of the distribution\n",
        "# Try generating uniform random numbers and compare their histogram to the normal distribution\n"
      ],
      "metadata": {
        "id": "1nfVCpUcDquo"
      },
      "execution_count": null,
      "outputs": []
    }
  ]
}